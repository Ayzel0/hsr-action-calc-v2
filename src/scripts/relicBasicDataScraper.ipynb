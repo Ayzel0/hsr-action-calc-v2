{
 "cells": [
  {
   "cell_type": "code",
   "execution_count": 3,
   "metadata": {},
   "outputs": [],
   "source": [
    "import pandas as pd\n",
    "import numpy as np\n",
    "import json\n",
    "import requests\n",
    "\n",
    "from time import sleep\n",
    "from selenium import webdriver\n",
    "from selenium.webdriver.common.by import By\n",
    "from selenium.webdriver.support.wait import WebDriverWait\n",
    "from selenium.webdriver.support import expected_conditions as EC\n",
    "from selenium.webdriver.common.action_chains import ActionChains"
   ]
  },
  {
   "cell_type": "code",
   "execution_count": 34,
   "metadata": {},
   "outputs": [],
   "source": [
    "RELIC_GRID = '//div[@class=\"grid grid-cols-1 md:grid-cols-2 h-100 p-4 text-slate-950\"]'\n",
    "\n",
    "class RelicBasicDataScraper:\n",
    "    def __init__(self, url):\n",
    "        self.url = url\n",
    "        self.driver = None\n",
    "    \n",
    "    def create_driver(self):\n",
    "        self.driver = webdriver.Chrome()\n",
    "        self.driver.get(self.url)\n",
    "        self.driver.maximize_window()\n",
    "        self.wait = WebDriverWait(self.driver, 10)\n",
    "    \n",
    "    def mine_relics(self):\n",
    "        relic_grid = self.wait.until(EC.presence_of_element_located((By.XPATH, RELIC_GRID)))\n",
    "        relic_divs = relic_grid.find_elements(By.XPATH, './/div[@class=\"grid grid-cols-6 p-2 text-slate-100 py-4\"]')\n",
    "        return_dict = {}\n",
    "        for i in range(len(relic_divs)):\n",
    "            relic_dict = {}\n",
    "\n",
    "            # refresh references\n",
    "            relic_grid = self.wait.until(EC.presence_of_element_located((By.XPATH, RELIC_GRID)))\n",
    "            relic_divs = relic_grid.find_elements(By.XPATH, './/div[@class=\"grid grid-cols-6 p-2 text-slate-100 py-4\"]')\n",
    "\n",
    "            relic_div = relic_divs[i]\n",
    "\n",
    "            # get ID\n",
    "            id = relic_div.find_element(By.TAG_NAME, 'a').get_attribute('href').split('/')[-1]\n",
    "\n",
    "            # get name\n",
    "            name = relic_div.find_element(By.TAG_NAME, 'div').find_element(By.TAG_NAME, 'a').get_attribute('innerText')\n",
    "            \n",
    "            # get image link\n",
    "            image_link = relic_div.find_element(By.TAG_NAME, 'a').find_element(By.TAG_NAME, 'img').get_attribute('src')\n",
    "\n",
    "            image_data = requests.get(image_link).content\n",
    "            image_path = f\"../assets/relic_images/{name.replace(' ', '').replace(':', '')}.webp\"\n",
    "            with open(image_path, 'wb') as f:\n",
    "                f.write(image_data)\n",
    "\n",
    "            # create object\n",
    "            relic_dict = {\n",
    "                'Name': name,\n",
    "                'ImageLink': image_link,\n",
    "                'ImagePath': image_path\n",
    "            }\n",
    "\n",
    "            print(relic_dict)\n",
    "\n",
    "            return_dict[id] = relic_dict\n",
    "        self.driver.close()\n",
    "        return return_dict"
   ]
  },
  {
   "cell_type": "code",
   "execution_count": 35,
   "metadata": {},
   "outputs": [
    {
     "name": "stdout",
     "output_type": "stream",
     "text": [
      "{'Name': 'Passerby of Wandering Cloud', 'ImageLink': 'https://api.hakush.in/hsr/UI/itemfigures/71000.webp', 'ImagePath': '../assets/relic_images/PasserbyofWanderingCloud.webp'}\n",
      "{'Name': 'Musketeer of Wild Wheat', 'ImageLink': 'https://api.hakush.in/hsr/UI/itemfigures/71001.webp', 'ImagePath': '../assets/relic_images/MusketeerofWildWheat.webp'}\n",
      "{'Name': 'Knight of Purity Palace', 'ImageLink': 'https://api.hakush.in/hsr/UI/itemfigures/71002.webp', 'ImagePath': '../assets/relic_images/KnightofPurityPalace.webp'}\n",
      "{'Name': 'Hunter of Glacial Forest', 'ImageLink': 'https://api.hakush.in/hsr/UI/itemfigures/71003.webp', 'ImagePath': '../assets/relic_images/HunterofGlacialForest.webp'}\n",
      "{'Name': 'Champion of Streetwise Boxing', 'ImageLink': 'https://api.hakush.in/hsr/UI/itemfigures/71004.webp', 'ImagePath': '../assets/relic_images/ChampionofStreetwiseBoxing.webp'}\n",
      "{'Name': 'Guard of Wuthering Snow', 'ImageLink': 'https://api.hakush.in/hsr/UI/itemfigures/71005.webp', 'ImagePath': '../assets/relic_images/GuardofWutheringSnow.webp'}\n",
      "{'Name': 'Firesmith of Lava-Forging', 'ImageLink': 'https://api.hakush.in/hsr/UI/itemfigures/71006.webp', 'ImagePath': '../assets/relic_images/FiresmithofLava-Forging.webp'}\n",
      "{'Name': 'Genius of Brilliant Stars', 'ImageLink': 'https://api.hakush.in/hsr/UI/itemfigures/71007.webp', 'ImagePath': '../assets/relic_images/GeniusofBrilliantStars.webp'}\n",
      "{'Name': 'Band of Sizzling Thunder', 'ImageLink': 'https://api.hakush.in/hsr/UI/itemfigures/71008.webp', 'ImagePath': '../assets/relic_images/BandofSizzlingThunder.webp'}\n",
      "{'Name': 'Eagle of Twilight Line', 'ImageLink': 'https://api.hakush.in/hsr/UI/itemfigures/71009.webp', 'ImagePath': '../assets/relic_images/EagleofTwilightLine.webp'}\n",
      "{'Name': 'Thief of Shooting Meteor', 'ImageLink': 'https://api.hakush.in/hsr/UI/itemfigures/71010.webp', 'ImagePath': '../assets/relic_images/ThiefofShootingMeteor.webp'}\n",
      "{'Name': 'Wastelander of Banditry Desert', 'ImageLink': 'https://api.hakush.in/hsr/UI/itemfigures/71011.webp', 'ImagePath': '../assets/relic_images/WastelanderofBanditryDesert.webp'}\n",
      "{'Name': 'Longevous Disciple', 'ImageLink': 'https://api.hakush.in/hsr/UI/itemfigures/71020.webp', 'ImagePath': '../assets/relic_images/LongevousDisciple.webp'}\n",
      "{'Name': 'Messenger Traversing Hackerspace', 'ImageLink': 'https://api.hakush.in/hsr/UI/itemfigures/71021.webp', 'ImagePath': '../assets/relic_images/MessengerTraversingHackerspace.webp'}\n",
      "{'Name': 'The Ashblazing Grand Duke', 'ImageLink': 'https://api.hakush.in/hsr/UI/itemfigures/71024.webp', 'ImagePath': '../assets/relic_images/TheAshblazingGrandDuke.webp'}\n",
      "{'Name': 'Prisoner in Deep Confinement', 'ImageLink': 'https://api.hakush.in/hsr/UI/itemfigures/71025.webp', 'ImagePath': '../assets/relic_images/PrisonerinDeepConfinement.webp'}\n",
      "{'Name': 'Pioneer Diver of Dead Waters', 'ImageLink': 'https://api.hakush.in/hsr/UI/itemfigures/71028.webp', 'ImagePath': '../assets/relic_images/PioneerDiverofDeadWaters.webp'}\n",
      "{'Name': 'Watchmaker, Master of Dream Machinations', 'ImageLink': 'https://api.hakush.in/hsr/UI/itemfigures/71029.webp', 'ImagePath': '../assets/relic_images/Watchmaker,MasterofDreamMachinations.webp'}\n",
      "{'Name': 'Space Sealing Station', 'ImageLink': 'https://api.hakush.in/hsr/UI/itemfigures/71012.webp', 'ImagePath': '../assets/relic_images/SpaceSealingStation.webp'}\n",
      "{'Name': 'Fleet of the Ageless', 'ImageLink': 'https://api.hakush.in/hsr/UI/itemfigures/71013.webp', 'ImagePath': '../assets/relic_images/FleetoftheAgeless.webp'}\n",
      "{'Name': 'Pan-Cosmic Commercial Enterprise', 'ImageLink': 'https://api.hakush.in/hsr/UI/itemfigures/71014.webp', 'ImagePath': '../assets/relic_images/Pan-CosmicCommercialEnterprise.webp'}\n",
      "{'Name': 'Belobog of the Architects', 'ImageLink': 'https://api.hakush.in/hsr/UI/itemfigures/71015.webp', 'ImagePath': '../assets/relic_images/BelobogoftheArchitects.webp'}\n",
      "{'Name': 'Celestial Differentiator', 'ImageLink': 'https://api.hakush.in/hsr/UI/itemfigures/71016.webp', 'ImagePath': '../assets/relic_images/CelestialDifferentiator.webp'}\n",
      "{'Name': 'Inert Salsotto', 'ImageLink': 'https://api.hakush.in/hsr/UI/itemfigures/71017.webp', 'ImagePath': '../assets/relic_images/InertSalsotto.webp'}\n",
      "{'Name': 'Talia: Kingdom of Banditry', 'ImageLink': 'https://api.hakush.in/hsr/UI/itemfigures/71018.webp', 'ImagePath': '../assets/relic_images/Talia:KingdomofBanditry.webp'}\n",
      "{'Name': 'Sprightly Vonwacq', 'ImageLink': 'https://api.hakush.in/hsr/UI/itemfigures/71019.webp', 'ImagePath': '../assets/relic_images/SprightlyVonwacq.webp'}\n",
      "{'Name': 'Rutilant Arena', 'ImageLink': 'https://api.hakush.in/hsr/UI/itemfigures/71022.webp', 'ImagePath': '../assets/relic_images/RutilantArena.webp'}\n",
      "{'Name': 'Broken Keel', 'ImageLink': 'https://api.hakush.in/hsr/UI/itemfigures/71023.webp', 'ImagePath': '../assets/relic_images/BrokenKeel.webp'}\n",
      "{'Name': 'Firmament Frontline: Glamoth', 'ImageLink': 'https://api.hakush.in/hsr/UI/itemfigures/71026.webp', 'ImagePath': '../assets/relic_images/FirmamentFrontline:Glamoth.webp'}\n",
      "{'Name': 'Penacony, Land of the Dreams', 'ImageLink': 'https://api.hakush.in/hsr/UI/itemfigures/71027.webp', 'ImagePath': '../assets/relic_images/Penacony,LandoftheDreams.webp'}\n",
      "{'Name': 'Sigonia, the Unclaimed Desolation', 'ImageLink': 'https://api.hakush.in/hsr/UI/itemfigures/71030.webp', 'ImagePath': '../assets/relic_images/Sigonia,theUnclaimedDesolation.webp'}\n",
      "{'Name': 'Izumo Gensei and Takama Divine Realm', 'ImageLink': 'https://api.hakush.in/hsr/UI/itemfigures/71031.webp', 'ImagePath': '../assets/relic_images/IzumoGenseiandTakamaDivineRealm.webp'}\n"
     ]
    }
   ],
   "source": [
    "HAKUSHIN_URL = 'https://hsr3.hakush.in/relicset'\n",
    "\n",
    "scraper = RelicBasicDataScraper(HAKUSHIN_URL)\n",
    "scraper.create_driver()\n",
    "relic_dict = scraper.mine_relics()"
   ]
  }
 ],
 "metadata": {
  "kernelspec": {
   "display_name": "myenv",
   "language": "python",
   "name": "python3"
  },
  "language_info": {
   "codemirror_mode": {
    "name": "ipython",
    "version": 3
   },
   "file_extension": ".py",
   "mimetype": "text/x-python",
   "name": "python",
   "nbconvert_exporter": "python",
   "pygments_lexer": "ipython3",
   "version": "3.10.9"
  }
 },
 "nbformat": 4,
 "nbformat_minor": 2
}
