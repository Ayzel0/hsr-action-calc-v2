{
 "cells": [
  {
   "cell_type": "code",
   "execution_count": 1,
   "metadata": {},
   "outputs": [],
   "source": [
    "import pandas as pd\n",
    "import numpy as np\n",
    "import json\n",
    "\n",
    "from time import sleep\n",
    "from selenium import webdriver\n",
    "from selenium.webdriver.common.by import By\n",
    "from selenium.webdriver.support.wait import WebDriverWait\n",
    "from selenium.webdriver.support import expected_conditions as EC\n",
    "from selenium.webdriver.common.action_chains import ActionChains"
   ]
  },
  {
   "cell_type": "code",
   "execution_count": 13,
   "metadata": {},
   "outputs": [],
   "source": [
    "CLOSE_SETTINGS_MENU_ICON = '//div[@class=\"absolute right-3 cursor-pointer p-4\"]'\n",
    "LC_SELECT_ICON = '//a[@href=\"/en/archive/avatar\"]'\n",
    "LC_GRID = '//div[@class=\"flex flex-row flex-wrap justify-center gap-6 mt-2\"]'\n",
    "LC_NAME = './/h1[@class=\"font-bold my-2 text-3xl text-white\"]'\n",
    "\n",
    "class StatMiner:\n",
    "    def __init__(self, target_url):\n",
    "        self.target_url = target_url\n",
    "        self.driver = None\n",
    "    \n",
    "    def create_driver(self):\n",
    "        self.driver = webdriver.Chrome()\n",
    "        self.driver.get(self.target_url)\n",
    "        self.driver.maximize_window()\n",
    "\n",
    "    def close_menu(self):\n",
    "        # close the settings menu\n",
    "        settings_title = self.driver.find_element(By.XPATH, '//div[@name=\"title\"]')\n",
    "        x_button = settings_title.find_element(By.XPATH, CLOSE_SETTINGS_MENU_ICON)\n",
    "        x_button.click()\n",
    "\n",
    "    def get_lcs(self):\n",
    "        # find the div which contains all LC links\n",
    "        lc_grid = WebDriverWait(self.driver, 10).until(\n",
    "            EC.presence_of_element_located((By.XPATH, LC_GRID))\n",
    "        )\n",
    "        all_lcs = lc_grid.find_elements(By.TAG_NAME, 'a')\n",
    "\n",
    "        # loop\n",
    "        df_list = []\n",
    "        name_list = []\n",
    "        for i in range(len(all_lcs)):\n",
    "            lc_grid = WebDriverWait(self.driver, 10).until(\n",
    "                EC.presence_of_element_located((By.XPATH, LC_GRID))\n",
    "            )\n",
    "            all_lcs = lc_grid.find_elements(By.TAG_NAME, 'a')\n",
    "            all_lcs[i].click()\n",
    "\n",
    "            # find lc name\n",
    "            lc_name_element = WebDriverWait(self.driver, 10).until(\n",
    "                EC.presence_of_element_located((By.XPATH, LC_NAME))\n",
    "            )\n",
    "            lc_name = lc_name_element.get_attribute('innerText')\n",
    "            name_list.append(lc_name)\n",
    "            print(lc_name)\n",
    "            \n",
    "            # find the slider button to convert to table\n",
    "            slider_button = WebDriverWait(self.driver, 10).until(\n",
    "                EC.presence_of_element_located((By.XPATH, '//button[text()=\"Slider\"]'))\n",
    "            )\n",
    "            slider_button.click()\n",
    "\n",
    "            # get a dataframe from the table\n",
    "            stat_table = WebDriverWait(self.driver, 10).until(\n",
    "                EC.presence_of_element_located((By.NAME, 'STAT TABLE'))\n",
    "            )\n",
    "            stat_table_html = stat_table.get_attribute('outerHTML')\n",
    "            lc_df = pd.read_html(stat_table_html)[0]\n",
    "            df_list.append(lc_df)\n",
    "\n",
    "            self.driver.back()\n",
    "        return df_list, name_list"
   ]
  },
  {
   "cell_type": "code",
   "execution_count": 14,
   "metadata": {},
   "outputs": [
    {
     "ename": "TimeoutException",
     "evalue": "Message: \nStacktrace:\n\tGetHandleVerifier [0x00007FF613BE7012+3522402]\n\t(No symbol) [0x00007FF613808352]\n\t(No symbol) [0x00007FF6136B5ABB]\n\t(No symbol) [0x00007FF6136FBF0E]\n\t(No symbol) [0x00007FF6136FC08C]\n\t(No symbol) [0x00007FF61373E437]\n\t(No symbol) [0x00007FF61371F09F]\n\t(No symbol) [0x00007FF61373BDA3]\n\t(No symbol) [0x00007FF61371EE03]\n\t(No symbol) [0x00007FF6136EF4D4]\n\t(No symbol) [0x00007FF6136F05F1]\n\tGetHandleVerifier [0x00007FF613C19B9D+3730157]\n\tGetHandleVerifier [0x00007FF613C6F02D+4079485]\n\tGetHandleVerifier [0x00007FF613C675D3+4048163]\n\tGetHandleVerifier [0x00007FF61393A649+718233]\n\t(No symbol) [0x00007FF613814A3F]\n\t(No symbol) [0x00007FF61380FA94]\n\t(No symbol) [0x00007FF61380FBC2]\n\t(No symbol) [0x00007FF6137FF2E4]\n\tBaseThreadInitThunk [0x00007FFE8E60257D+29]\n\tRtlUserThreadStart [0x00007FFE8FE8AA58+40]\n",
     "output_type": "error",
     "traceback": [
      "\u001b[1;31m---------------------------------------------------------------------------\u001b[0m",
      "\u001b[1;31mTimeoutException\u001b[0m                          Traceback (most recent call last)",
      "Cell \u001b[1;32mIn[14], line 5\u001b[0m\n\u001b[0;32m      3\u001b[0m scraper\u001b[38;5;241m.\u001b[39mcreate_driver()\n\u001b[0;32m      4\u001b[0m scraper\u001b[38;5;241m.\u001b[39mclose_menu()\n\u001b[1;32m----> 5\u001b[0m df_list, name_list \u001b[38;5;241m=\u001b[39m \u001b[43mscraper\u001b[49m\u001b[38;5;241;43m.\u001b[39;49m\u001b[43mget_lcs\u001b[49m\u001b[43m(\u001b[49m\u001b[43m)\u001b[49m\n",
      "Cell \u001b[1;32mIn[13], line 40\u001b[0m, in \u001b[0;36mStatMiner.get_lcs\u001b[1;34m(self)\u001b[0m\n\u001b[0;32m     37\u001b[0m all_lcs[i]\u001b[38;5;241m.\u001b[39mclick()\n\u001b[0;32m     39\u001b[0m \u001b[38;5;66;03m# find lc name\u001b[39;00m\n\u001b[1;32m---> 40\u001b[0m lc_name_element \u001b[38;5;241m=\u001b[39m \u001b[43mWebDriverWait\u001b[49m\u001b[43m(\u001b[49m\u001b[38;5;28;43mself\u001b[39;49m\u001b[38;5;241;43m.\u001b[39;49m\u001b[43mdriver\u001b[49m\u001b[43m,\u001b[49m\u001b[43m \u001b[49m\u001b[38;5;241;43m10\u001b[39;49m\u001b[43m)\u001b[49m\u001b[38;5;241;43m.\u001b[39;49m\u001b[43muntil\u001b[49m\u001b[43m(\u001b[49m\n\u001b[0;32m     41\u001b[0m \u001b[43m    \u001b[49m\u001b[43mEC\u001b[49m\u001b[38;5;241;43m.\u001b[39;49m\u001b[43mpresence_of_element_located\u001b[49m\u001b[43m(\u001b[49m\u001b[43m(\u001b[49m\u001b[43mBy\u001b[49m\u001b[38;5;241;43m.\u001b[39;49m\u001b[43mXPATH\u001b[49m\u001b[43m,\u001b[49m\u001b[43m \u001b[49m\u001b[43mLC_NAME\u001b[49m\u001b[43m)\u001b[49m\u001b[43m)\u001b[49m\n\u001b[0;32m     42\u001b[0m \u001b[43m\u001b[49m\u001b[43m)\u001b[49m\n\u001b[0;32m     43\u001b[0m lc_name \u001b[38;5;241m=\u001b[39m lc_name_element\u001b[38;5;241m.\u001b[39mget_attribute(\u001b[38;5;124m'\u001b[39m\u001b[38;5;124minnerText\u001b[39m\u001b[38;5;124m'\u001b[39m)\n\u001b[0;32m     44\u001b[0m name_list\u001b[38;5;241m.\u001b[39mappend(lc_name)\n",
      "File \u001b[1;32mc:\\Users\\Andrew\\.conda\\envs\\datascience\\lib\\site-packages\\selenium\\webdriver\\support\\wait.py:95\u001b[0m, in \u001b[0;36mWebDriverWait.until\u001b[1;34m(self, method, message)\u001b[0m\n\u001b[0;32m     93\u001b[0m     \u001b[38;5;28;01mif\u001b[39;00m time\u001b[38;5;241m.\u001b[39mmonotonic() \u001b[38;5;241m>\u001b[39m end_time:\n\u001b[0;32m     94\u001b[0m         \u001b[38;5;28;01mbreak\u001b[39;00m\n\u001b[1;32m---> 95\u001b[0m \u001b[38;5;28;01mraise\u001b[39;00m TimeoutException(message, screen, stacktrace)\n",
      "\u001b[1;31mTimeoutException\u001b[0m: Message: \nStacktrace:\n\tGetHandleVerifier [0x00007FF613BE7012+3522402]\n\t(No symbol) [0x00007FF613808352]\n\t(No symbol) [0x00007FF6136B5ABB]\n\t(No symbol) [0x00007FF6136FBF0E]\n\t(No symbol) [0x00007FF6136FC08C]\n\t(No symbol) [0x00007FF61373E437]\n\t(No symbol) [0x00007FF61371F09F]\n\t(No symbol) [0x00007FF61373BDA3]\n\t(No symbol) [0x00007FF61371EE03]\n\t(No symbol) [0x00007FF6136EF4D4]\n\t(No symbol) [0x00007FF6136F05F1]\n\tGetHandleVerifier [0x00007FF613C19B9D+3730157]\n\tGetHandleVerifier [0x00007FF613C6F02D+4079485]\n\tGetHandleVerifier [0x00007FF613C675D3+4048163]\n\tGetHandleVerifier [0x00007FF61393A649+718233]\n\t(No symbol) [0x00007FF613814A3F]\n\t(No symbol) [0x00007FF61380FA94]\n\t(No symbol) [0x00007FF61380FBC2]\n\t(No symbol) [0x00007FF6137FF2E4]\n\tBaseThreadInitThunk [0x00007FFE8E60257D+29]\n\tRtlUserThreadStart [0x00007FFE8FE8AA58+40]\n"
     ]
    }
   ],
   "source": [
    "YATTA_URL = 'https://hsr.yatta.top/en/archive/equipment'\n",
    "scraper = StatMiner(YATTA_URL)\n",
    "scraper.create_driver()\n",
    "scraper.close_menu()\n",
    "df_list, name_list = scraper.get_lcs()"
   ]
  }
 ],
 "metadata": {
  "kernelspec": {
   "display_name": "datascience",
   "language": "python",
   "name": "python3"
  },
  "language_info": {
   "codemirror_mode": {
    "name": "ipython",
    "version": 3
   },
   "file_extension": ".py",
   "mimetype": "text/x-python",
   "name": "python",
   "nbconvert_exporter": "python",
   "pygments_lexer": "ipython3",
   "version": "3.10.9"
  }
 },
 "nbformat": 4,
 "nbformat_minor": 2
}
