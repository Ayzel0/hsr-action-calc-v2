{
 "cells": [
  {
   "cell_type": "code",
   "execution_count": 2,
   "metadata": {},
   "outputs": [],
   "source": [
    "import pandas as pd\n",
    "import numpy as np\n",
    "import json\n",
    "\n",
    "from time import sleep\n",
    "from selenium import webdriver\n",
    "from selenium.webdriver.common.by import By\n",
    "from selenium.webdriver.support.wait import WebDriverWait\n",
    "from selenium.webdriver.support import expected_conditions as EC\n",
    "from selenium.webdriver.common.action_chains import ActionChains"
   ]
  },
  {
   "cell_type": "code",
   "execution_count": 7,
   "metadata": {},
   "outputs": [],
   "source": [
    "CHARACTERS_GRID = '//div[@class=\"grid grid-cols-4 sm:grid-cols-5 md:grid-cols-6 lg:grid-cols-7 xl:grid-cols-8 h-100 p-3 text-slate-950\"]'\n",
    "TRACES_DIV = '//div[@id=\"traces\"]'\n",
    "\n",
    "class CharMinorTraceScraper:\n",
    "    def __init__(self, url):\n",
    "        self.driver = None\n",
    "        self.wait = None\n",
    "        self.url = url\n",
    "    \n",
    "    def create_driver(self):\n",
    "        self.driver = webdriver.Chrome()\n",
    "        self.driver.get(self.url)\n",
    "        self.driver.maximize_window()\n",
    "        self.wait = WebDriverWait(self.driver, 30)\n",
    "\n",
    "    def mine_traces(self):\n",
    "        char_grid = self.wait.until(EC.presence_of_element_located((By.XPATH, CHARACTERS_GRID)))\n",
    "        char_links = char_grid.find_elements(By.TAG_NAME, 'a')\n",
    "        for link in char_links:\n",
    "            link_href = link.get_attribute('href')\n",
    "            self.driver.get(link_href)\n",
    "\n",
    "            # now in page, scroll down\n",
    "            self.driver.back()"
   ]
  },
  {
   "cell_type": "code",
   "execution_count": 8,
   "metadata": {},
   "outputs": [
    {
     "ename": "NoSuchWindowException",
     "evalue": "Message: no such window: target window already closed\nfrom unknown error: web view not found\n  (Session info: chrome=121.0.6167.184)\nStacktrace:\n\tGetHandleVerifier [0x00007FF60A047012+3522402]\n\t(No symbol) [0x00007FF609C68352]\n\t(No symbol) [0x00007FF609B15ABB]\n\t(No symbol) [0x00007FF609AF287C]\n\t(No symbol) [0x00007FF609B85D97]\n\t(No symbol) [0x00007FF609B9B3CF]\n\t(No symbol) [0x00007FF609B7EE03]\n\t(No symbol) [0x00007FF609B4F4D4]\n\t(No symbol) [0x00007FF609B505F1]\n\tGetHandleVerifier [0x00007FF60A079B9D+3730157]\n\tGetHandleVerifier [0x00007FF60A0CF02D+4079485]\n\tGetHandleVerifier [0x00007FF60A0C75D3+4048163]\n\tGetHandleVerifier [0x00007FF609D9A649+718233]\n\t(No symbol) [0x00007FF609C74A3F]\n\t(No symbol) [0x00007FF609C6FA94]\n\t(No symbol) [0x00007FF609C6FBC2]\n\t(No symbol) [0x00007FF609C5F2E4]\n\tBaseThreadInitThunk [0x00007FF80DE07344+20]\n\tRtlUserThreadStart [0x00007FF80EFC26B1+33]\n",
     "output_type": "error",
     "traceback": [
      "\u001b[1;31m---------------------------------------------------------------------------\u001b[0m",
      "\u001b[1;31mNoSuchWindowException\u001b[0m                     Traceback (most recent call last)",
      "Cell \u001b[1;32mIn[8], line 5\u001b[0m\n\u001b[0;32m      3\u001b[0m scraper \u001b[38;5;241m=\u001b[39m CharMinorTraceScraper(CHARACTERS_URL)\n\u001b[0;32m      4\u001b[0m scraper\u001b[38;5;241m.\u001b[39mcreate_driver()\n\u001b[1;32m----> 5\u001b[0m \u001b[43mscraper\u001b[49m\u001b[38;5;241;43m.\u001b[39;49m\u001b[43mmine_traces\u001b[49m\u001b[43m(\u001b[49m\u001b[43m)\u001b[49m\n",
      "Cell \u001b[1;32mIn[7], line 21\u001b[0m, in \u001b[0;36mCharMinorTraceScraper.mine_traces\u001b[1;34m(self)\u001b[0m\n\u001b[0;32m     19\u001b[0m link_href \u001b[38;5;241m=\u001b[39m link\u001b[38;5;241m.\u001b[39mget_attribute(\u001b[38;5;124m'\u001b[39m\u001b[38;5;124mhref\u001b[39m\u001b[38;5;124m'\u001b[39m)\n\u001b[0;32m     20\u001b[0m \u001b[38;5;28mself\u001b[39m\u001b[38;5;241m.\u001b[39mdriver\u001b[38;5;241m.\u001b[39mget(link_href)\n\u001b[1;32m---> 21\u001b[0m \u001b[38;5;28;43mself\u001b[39;49m\u001b[38;5;241;43m.\u001b[39;49m\u001b[43mdriver\u001b[49m\u001b[38;5;241;43m.\u001b[39;49m\u001b[43mback\u001b[49m\u001b[43m(\u001b[49m\u001b[43m)\u001b[49m\n",
      "File \u001b[1;32mc:\\Users\\andre\\.conda\\envs\\myenv\\lib\\site-packages\\selenium\\webdriver\\remote\\webdriver.py:547\u001b[0m, in \u001b[0;36mWebDriver.back\u001b[1;34m(self)\u001b[0m\n\u001b[0;32m    539\u001b[0m \u001b[38;5;28;01mdef\u001b[39;00m \u001b[38;5;21mback\u001b[39m(\u001b[38;5;28mself\u001b[39m) \u001b[38;5;241m-\u001b[39m\u001b[38;5;241m>\u001b[39m \u001b[38;5;28;01mNone\u001b[39;00m:\n\u001b[0;32m    540\u001b[0m     \u001b[38;5;124;03m\"\"\"Goes one step backward in the browser history.\u001b[39;00m\n\u001b[0;32m    541\u001b[0m \n\u001b[0;32m    542\u001b[0m \u001b[38;5;124;03m    :Usage:\u001b[39;00m\n\u001b[1;32m   (...)\u001b[0m\n\u001b[0;32m    545\u001b[0m \u001b[38;5;124;03m            driver.back()\u001b[39;00m\n\u001b[0;32m    546\u001b[0m \u001b[38;5;124;03m    \"\"\"\u001b[39;00m\n\u001b[1;32m--> 547\u001b[0m     \u001b[38;5;28;43mself\u001b[39;49m\u001b[38;5;241;43m.\u001b[39;49m\u001b[43mexecute\u001b[49m\u001b[43m(\u001b[49m\u001b[43mCommand\u001b[49m\u001b[38;5;241;43m.\u001b[39;49m\u001b[43mGO_BACK\u001b[49m\u001b[43m)\u001b[49m\n",
      "File \u001b[1;32mc:\\Users\\andre\\.conda\\envs\\myenv\\lib\\site-packages\\selenium\\webdriver\\remote\\webdriver.py:344\u001b[0m, in \u001b[0;36mWebDriver.execute\u001b[1;34m(self, driver_command, params)\u001b[0m\n\u001b[0;32m    342\u001b[0m response \u001b[38;5;241m=\u001b[39m \u001b[38;5;28mself\u001b[39m\u001b[38;5;241m.\u001b[39mcommand_executor\u001b[38;5;241m.\u001b[39mexecute(driver_command, params)\n\u001b[0;32m    343\u001b[0m \u001b[38;5;28;01mif\u001b[39;00m response:\n\u001b[1;32m--> 344\u001b[0m     \u001b[38;5;28;43mself\u001b[39;49m\u001b[38;5;241;43m.\u001b[39;49m\u001b[43merror_handler\u001b[49m\u001b[38;5;241;43m.\u001b[39;49m\u001b[43mcheck_response\u001b[49m\u001b[43m(\u001b[49m\u001b[43mresponse\u001b[49m\u001b[43m)\u001b[49m\n\u001b[0;32m    345\u001b[0m     response[\u001b[38;5;124m\"\u001b[39m\u001b[38;5;124mvalue\u001b[39m\u001b[38;5;124m\"\u001b[39m] \u001b[38;5;241m=\u001b[39m \u001b[38;5;28mself\u001b[39m\u001b[38;5;241m.\u001b[39m_unwrap_value(response\u001b[38;5;241m.\u001b[39mget(\u001b[38;5;124m\"\u001b[39m\u001b[38;5;124mvalue\u001b[39m\u001b[38;5;124m\"\u001b[39m, \u001b[38;5;28;01mNone\u001b[39;00m))\n\u001b[0;32m    346\u001b[0m     \u001b[38;5;28;01mreturn\u001b[39;00m response\n",
      "File \u001b[1;32mc:\\Users\\andre\\.conda\\envs\\myenv\\lib\\site-packages\\selenium\\webdriver\\remote\\errorhandler.py:229\u001b[0m, in \u001b[0;36mErrorHandler.check_response\u001b[1;34m(self, response)\u001b[0m\n\u001b[0;32m    227\u001b[0m         alert_text \u001b[38;5;241m=\u001b[39m value[\u001b[38;5;124m\"\u001b[39m\u001b[38;5;124malert\u001b[39m\u001b[38;5;124m\"\u001b[39m]\u001b[38;5;241m.\u001b[39mget(\u001b[38;5;124m\"\u001b[39m\u001b[38;5;124mtext\u001b[39m\u001b[38;5;124m\"\u001b[39m)\n\u001b[0;32m    228\u001b[0m     \u001b[38;5;28;01mraise\u001b[39;00m exception_class(message, screen, stacktrace, alert_text)  \u001b[38;5;66;03m# type: ignore[call-arg]  # mypy is not smart enough here\u001b[39;00m\n\u001b[1;32m--> 229\u001b[0m \u001b[38;5;28;01mraise\u001b[39;00m exception_class(message, screen, stacktrace)\n",
      "\u001b[1;31mNoSuchWindowException\u001b[0m: Message: no such window: target window already closed\nfrom unknown error: web view not found\n  (Session info: chrome=121.0.6167.184)\nStacktrace:\n\tGetHandleVerifier [0x00007FF60A047012+3522402]\n\t(No symbol) [0x00007FF609C68352]\n\t(No symbol) [0x00007FF609B15ABB]\n\t(No symbol) [0x00007FF609AF287C]\n\t(No symbol) [0x00007FF609B85D97]\n\t(No symbol) [0x00007FF609B9B3CF]\n\t(No symbol) [0x00007FF609B7EE03]\n\t(No symbol) [0x00007FF609B4F4D4]\n\t(No symbol) [0x00007FF609B505F1]\n\tGetHandleVerifier [0x00007FF60A079B9D+3730157]\n\tGetHandleVerifier [0x00007FF60A0CF02D+4079485]\n\tGetHandleVerifier [0x00007FF60A0C75D3+4048163]\n\tGetHandleVerifier [0x00007FF609D9A649+718233]\n\t(No symbol) [0x00007FF609C74A3F]\n\t(No symbol) [0x00007FF609C6FA94]\n\t(No symbol) [0x00007FF609C6FBC2]\n\t(No symbol) [0x00007FF609C5F2E4]\n\tBaseThreadInitThunk [0x00007FF80DE07344+20]\n\tRtlUserThreadStart [0x00007FF80EFC26B1+33]\n"
     ]
    }
   ],
   "source": [
    "CHARACTERS_URL = 'https://hsr.hakush.in/char'\n",
    "\n",
    "scraper = CharMinorTraceScraper(CHARACTERS_URL)\n",
    "scraper.create_driver()\n",
    "scraper.mine_traces()"
   ]
  }
 ],
 "metadata": {
  "kernelspec": {
   "display_name": "myenv",
   "language": "python",
   "name": "python3"
  },
  "language_info": {
   "codemirror_mode": {
    "name": "ipython",
    "version": 3
   },
   "file_extension": ".py",
   "mimetype": "text/x-python",
   "name": "python",
   "nbconvert_exporter": "python",
   "pygments_lexer": "ipython3",
   "version": "3.10.9"
  }
 },
 "nbformat": 4,
 "nbformat_minor": 2
}
